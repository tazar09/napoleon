{
  "nbformat": 4,
  "nbformat_minor": 0,
  "metadata": {
    "colab": {
      "provenance": [],
      "authorship_tag": "ABX9TyMUB7bk7rD2sJ/WMpDMUTTs",
      "include_colab_link": true
    },
    "kernelspec": {
      "name": "python3",
      "display_name": "Python 3"
    },
    "language_info": {
      "name": "python"
    }
  },
  "cells": [
    {
      "cell_type": "markdown",
      "metadata": {
        "id": "view-in-github",
        "colab_type": "text"
      },
      "source": [
        "<a href=\"https://colab.research.google.com/github/tazar09/napoleon/blob/main/napoleon_battles.ipynb\" target=\"_parent\"><img src=\"https://colab.research.google.com/assets/colab-badge.svg\" alt=\"Open In Colab\"/></a>"
      ]
    },
    {
      "cell_type": "code",
      "source": [
        "from sklearn.datasets import fetch_openml\n",
        "import matplotlib as mpl\n",
        "import matplotlib.pyplot as plt\n",
        "import numpy as np\n",
        "import pandas as pd\n",
        "import warnings\n",
        "warnings.filterwarnings(\"ignore\")\n",
        "import datetime as dt\n",
        "pd.set_option('display.max_rows', 500)"
      ],
      "metadata": {
        "id": "dUa_hZFL3VJK"
      },
      "execution_count": 1,
      "outputs": []
    },
    {
      "cell_type": "code",
      "source": [
        "url_list_of_battles = 'https://en.wikipedia.org/wiki/Military_career_of_Napoleon'"
      ],
      "metadata": {
        "id": "KXuOZNRteSFh"
      },
      "execution_count": 2,
      "outputs": []
    },
    {
      "cell_type": "code",
      "source": [
        "list_of_battles = pd.read_html(url_list_of_battles)[1]\n",
        "list_of_battles.head()"
      ],
      "metadata": {
        "colab": {
          "base_uri": "https://localhost:8080/",
          "height": 206
        },
        "id": "3B2tEmnxeSIX",
        "outputId": "245d5f66-2f4e-4b1f-d148-9319be552259"
      },
      "execution_count": 3,
      "outputs": [
        {
          "output_type": "execute_result",
          "data": {
            "text/plain": [
              "    No                Date           Battle                    Conflict  \\\n",
              "0  1.0  29 Aug-19 Dec 1793  Siege of Toulon  War of the First Coalition   \n",
              "1  2.0      24-28 Apr 1794          Saorgio  War of the First Coalition   \n",
              "2  3.0   21 September 1794       First Dego  War of the First Coalition   \n",
              "3  4.0          5 Oct 1795   13 Vendémiaire           French Revolution   \n",
              "4  5.0      11-12 Apr 1796       Montenotte  War of the First Coalition   \n",
              "\n",
              "   Opponent             Location  Outcome  \n",
              "0       NaN      French Republic  Victory  \n",
              "1       NaN  Kingdom of Sardinia  Victory  \n",
              "2       NaN  Kingdom of Sardinia  Victory  \n",
              "3       NaN      French Republic  Victory  \n",
              "4       NaN  Kingdom of Sardinia  Victory  "
            ],
            "text/html": [
              "\n",
              "  <div id=\"df-6cb0c66f-b366-47b8-926f-24bc9d3ce3fc\" class=\"colab-df-container\">\n",
              "    <div>\n",
              "<style scoped>\n",
              "    .dataframe tbody tr th:only-of-type {\n",
              "        vertical-align: middle;\n",
              "    }\n",
              "\n",
              "    .dataframe tbody tr th {\n",
              "        vertical-align: top;\n",
              "    }\n",
              "\n",
              "    .dataframe thead th {\n",
              "        text-align: right;\n",
              "    }\n",
              "</style>\n",
              "<table border=\"1\" class=\"dataframe\">\n",
              "  <thead>\n",
              "    <tr style=\"text-align: right;\">\n",
              "      <th></th>\n",
              "      <th>No</th>\n",
              "      <th>Date</th>\n",
              "      <th>Battle</th>\n",
              "      <th>Conflict</th>\n",
              "      <th>Opponent</th>\n",
              "      <th>Location</th>\n",
              "      <th>Outcome</th>\n",
              "    </tr>\n",
              "  </thead>\n",
              "  <tbody>\n",
              "    <tr>\n",
              "      <th>0</th>\n",
              "      <td>1.0</td>\n",
              "      <td>29 Aug-19 Dec 1793</td>\n",
              "      <td>Siege of Toulon</td>\n",
              "      <td>War of the First Coalition</td>\n",
              "      <td>NaN</td>\n",
              "      <td>French Republic</td>\n",
              "      <td>Victory</td>\n",
              "    </tr>\n",
              "    <tr>\n",
              "      <th>1</th>\n",
              "      <td>2.0</td>\n",
              "      <td>24-28 Apr 1794</td>\n",
              "      <td>Saorgio</td>\n",
              "      <td>War of the First Coalition</td>\n",
              "      <td>NaN</td>\n",
              "      <td>Kingdom of Sardinia</td>\n",
              "      <td>Victory</td>\n",
              "    </tr>\n",
              "    <tr>\n",
              "      <th>2</th>\n",
              "      <td>3.0</td>\n",
              "      <td>21 September 1794</td>\n",
              "      <td>First Dego</td>\n",
              "      <td>War of the First Coalition</td>\n",
              "      <td>NaN</td>\n",
              "      <td>Kingdom of Sardinia</td>\n",
              "      <td>Victory</td>\n",
              "    </tr>\n",
              "    <tr>\n",
              "      <th>3</th>\n",
              "      <td>4.0</td>\n",
              "      <td>5 Oct 1795</td>\n",
              "      <td>13 Vendémiaire</td>\n",
              "      <td>French Revolution</td>\n",
              "      <td>NaN</td>\n",
              "      <td>French Republic</td>\n",
              "      <td>Victory</td>\n",
              "    </tr>\n",
              "    <tr>\n",
              "      <th>4</th>\n",
              "      <td>5.0</td>\n",
              "      <td>11-12 Apr 1796</td>\n",
              "      <td>Montenotte</td>\n",
              "      <td>War of the First Coalition</td>\n",
              "      <td>NaN</td>\n",
              "      <td>Kingdom of Sardinia</td>\n",
              "      <td>Victory</td>\n",
              "    </tr>\n",
              "  </tbody>\n",
              "</table>\n",
              "</div>\n",
              "    <div class=\"colab-df-buttons\">\n",
              "\n",
              "  <div class=\"colab-df-container\">\n",
              "    <button class=\"colab-df-convert\" onclick=\"convertToInteractive('df-6cb0c66f-b366-47b8-926f-24bc9d3ce3fc')\"\n",
              "            title=\"Convert this dataframe to an interactive table.\"\n",
              "            style=\"display:none;\">\n",
              "\n",
              "  <svg xmlns=\"http://www.w3.org/2000/svg\" height=\"24px\" viewBox=\"0 -960 960 960\">\n",
              "    <path d=\"M120-120v-720h720v720H120Zm60-500h600v-160H180v160Zm220 220h160v-160H400v160Zm0 220h160v-160H400v160ZM180-400h160v-160H180v160Zm440 0h160v-160H620v160ZM180-180h160v-160H180v160Zm440 0h160v-160H620v160Z\"/>\n",
              "  </svg>\n",
              "    </button>\n",
              "\n",
              "  <style>\n",
              "    .colab-df-container {\n",
              "      display:flex;\n",
              "      gap: 12px;\n",
              "    }\n",
              "\n",
              "    .colab-df-convert {\n",
              "      background-color: #E8F0FE;\n",
              "      border: none;\n",
              "      border-radius: 50%;\n",
              "      cursor: pointer;\n",
              "      display: none;\n",
              "      fill: #1967D2;\n",
              "      height: 32px;\n",
              "      padding: 0 0 0 0;\n",
              "      width: 32px;\n",
              "    }\n",
              "\n",
              "    .colab-df-convert:hover {\n",
              "      background-color: #E2EBFA;\n",
              "      box-shadow: 0px 1px 2px rgba(60, 64, 67, 0.3), 0px 1px 3px 1px rgba(60, 64, 67, 0.15);\n",
              "      fill: #174EA6;\n",
              "    }\n",
              "\n",
              "    .colab-df-buttons div {\n",
              "      margin-bottom: 4px;\n",
              "    }\n",
              "\n",
              "    [theme=dark] .colab-df-convert {\n",
              "      background-color: #3B4455;\n",
              "      fill: #D2E3FC;\n",
              "    }\n",
              "\n",
              "    [theme=dark] .colab-df-convert:hover {\n",
              "      background-color: #434B5C;\n",
              "      box-shadow: 0px 1px 3px 1px rgba(0, 0, 0, 0.15);\n",
              "      filter: drop-shadow(0px 1px 2px rgba(0, 0, 0, 0.3));\n",
              "      fill: #FFFFFF;\n",
              "    }\n",
              "  </style>\n",
              "\n",
              "    <script>\n",
              "      const buttonEl =\n",
              "        document.querySelector('#df-6cb0c66f-b366-47b8-926f-24bc9d3ce3fc button.colab-df-convert');\n",
              "      buttonEl.style.display =\n",
              "        google.colab.kernel.accessAllowed ? 'block' : 'none';\n",
              "\n",
              "      async function convertToInteractive(key) {\n",
              "        const element = document.querySelector('#df-6cb0c66f-b366-47b8-926f-24bc9d3ce3fc');\n",
              "        const dataTable =\n",
              "          await google.colab.kernel.invokeFunction('convertToInteractive',\n",
              "                                                    [key], {});\n",
              "        if (!dataTable) return;\n",
              "\n",
              "        const docLinkHtml = 'Like what you see? Visit the ' +\n",
              "          '<a target=\"_blank\" href=https://colab.research.google.com/notebooks/data_table.ipynb>data table notebook</a>'\n",
              "          + ' to learn more about interactive tables.';\n",
              "        element.innerHTML = '';\n",
              "        dataTable['output_type'] = 'display_data';\n",
              "        await google.colab.output.renderOutput(dataTable, element);\n",
              "        const docLink = document.createElement('div');\n",
              "        docLink.innerHTML = docLinkHtml;\n",
              "        element.appendChild(docLink);\n",
              "      }\n",
              "    </script>\n",
              "  </div>\n",
              "\n",
              "\n",
              "<div id=\"df-15fb6f38-4a82-4cc5-a9b8-f78d59e9f90a\">\n",
              "  <button class=\"colab-df-quickchart\" onclick=\"quickchart('df-15fb6f38-4a82-4cc5-a9b8-f78d59e9f90a')\"\n",
              "            title=\"Suggest charts\"\n",
              "            style=\"display:none;\">\n",
              "\n",
              "<svg xmlns=\"http://www.w3.org/2000/svg\" height=\"24px\"viewBox=\"0 0 24 24\"\n",
              "     width=\"24px\">\n",
              "    <g>\n",
              "        <path d=\"M19 3H5c-1.1 0-2 .9-2 2v14c0 1.1.9 2 2 2h14c1.1 0 2-.9 2-2V5c0-1.1-.9-2-2-2zM9 17H7v-7h2v7zm4 0h-2V7h2v10zm4 0h-2v-4h2v4z\"/>\n",
              "    </g>\n",
              "</svg>\n",
              "  </button>\n",
              "\n",
              "<style>\n",
              "  .colab-df-quickchart {\n",
              "      --bg-color: #E8F0FE;\n",
              "      --fill-color: #1967D2;\n",
              "      --hover-bg-color: #E2EBFA;\n",
              "      --hover-fill-color: #174EA6;\n",
              "      --disabled-fill-color: #AAA;\n",
              "      --disabled-bg-color: #DDD;\n",
              "  }\n",
              "\n",
              "  [theme=dark] .colab-df-quickchart {\n",
              "      --bg-color: #3B4455;\n",
              "      --fill-color: #D2E3FC;\n",
              "      --hover-bg-color: #434B5C;\n",
              "      --hover-fill-color: #FFFFFF;\n",
              "      --disabled-bg-color: #3B4455;\n",
              "      --disabled-fill-color: #666;\n",
              "  }\n",
              "\n",
              "  .colab-df-quickchart {\n",
              "    background-color: var(--bg-color);\n",
              "    border: none;\n",
              "    border-radius: 50%;\n",
              "    cursor: pointer;\n",
              "    display: none;\n",
              "    fill: var(--fill-color);\n",
              "    height: 32px;\n",
              "    padding: 0;\n",
              "    width: 32px;\n",
              "  }\n",
              "\n",
              "  .colab-df-quickchart:hover {\n",
              "    background-color: var(--hover-bg-color);\n",
              "    box-shadow: 0 1px 2px rgba(60, 64, 67, 0.3), 0 1px 3px 1px rgba(60, 64, 67, 0.15);\n",
              "    fill: var(--button-hover-fill-color);\n",
              "  }\n",
              "\n",
              "  .colab-df-quickchart-complete:disabled,\n",
              "  .colab-df-quickchart-complete:disabled:hover {\n",
              "    background-color: var(--disabled-bg-color);\n",
              "    fill: var(--disabled-fill-color);\n",
              "    box-shadow: none;\n",
              "  }\n",
              "\n",
              "  .colab-df-spinner {\n",
              "    border: 2px solid var(--fill-color);\n",
              "    border-color: transparent;\n",
              "    border-bottom-color: var(--fill-color);\n",
              "    animation:\n",
              "      spin 1s steps(1) infinite;\n",
              "  }\n",
              "\n",
              "  @keyframes spin {\n",
              "    0% {\n",
              "      border-color: transparent;\n",
              "      border-bottom-color: var(--fill-color);\n",
              "      border-left-color: var(--fill-color);\n",
              "    }\n",
              "    20% {\n",
              "      border-color: transparent;\n",
              "      border-left-color: var(--fill-color);\n",
              "      border-top-color: var(--fill-color);\n",
              "    }\n",
              "    30% {\n",
              "      border-color: transparent;\n",
              "      border-left-color: var(--fill-color);\n",
              "      border-top-color: var(--fill-color);\n",
              "      border-right-color: var(--fill-color);\n",
              "    }\n",
              "    40% {\n",
              "      border-color: transparent;\n",
              "      border-right-color: var(--fill-color);\n",
              "      border-top-color: var(--fill-color);\n",
              "    }\n",
              "    60% {\n",
              "      border-color: transparent;\n",
              "      border-right-color: var(--fill-color);\n",
              "    }\n",
              "    80% {\n",
              "      border-color: transparent;\n",
              "      border-right-color: var(--fill-color);\n",
              "      border-bottom-color: var(--fill-color);\n",
              "    }\n",
              "    90% {\n",
              "      border-color: transparent;\n",
              "      border-bottom-color: var(--fill-color);\n",
              "    }\n",
              "  }\n",
              "</style>\n",
              "\n",
              "  <script>\n",
              "    async function quickchart(key) {\n",
              "      const quickchartButtonEl =\n",
              "        document.querySelector('#' + key + ' button');\n",
              "      quickchartButtonEl.disabled = true;  // To prevent multiple clicks.\n",
              "      quickchartButtonEl.classList.add('colab-df-spinner');\n",
              "      try {\n",
              "        const charts = await google.colab.kernel.invokeFunction(\n",
              "            'suggestCharts', [key], {});\n",
              "      } catch (error) {\n",
              "        console.error('Error during call to suggestCharts:', error);\n",
              "      }\n",
              "      quickchartButtonEl.classList.remove('colab-df-spinner');\n",
              "      quickchartButtonEl.classList.add('colab-df-quickchart-complete');\n",
              "    }\n",
              "    (() => {\n",
              "      let quickchartButtonEl =\n",
              "        document.querySelector('#df-15fb6f38-4a82-4cc5-a9b8-f78d59e9f90a button');\n",
              "      quickchartButtonEl.style.display =\n",
              "        google.colab.kernel.accessAllowed ? 'block' : 'none';\n",
              "    })();\n",
              "  </script>\n",
              "</div>\n",
              "    </div>\n",
              "  </div>\n"
            ]
          },
          "metadata": {},
          "execution_count": 3
        }
      ]
    },
    {
      "cell_type": "code",
      "source": [
        "import requests\n",
        "from bs4 import BeautifulSoup\n",
        "url = 'https://en.wikipedia.org/wiki/Military_career_of_Napoleon'\n",
        "\n",
        "response = requests.get(url)\n",
        "soup = BeautifulSoup(response.content, 'html.parser')\n",
        "\n",
        "tables = soup.find_all('table')\n",
        "\n",
        "# Iterate through the tables and look for the one with the specific class\n",
        "for table in tables:\n",
        "    if 'wikitable' in table.get('class', []):\n",
        "        # This is the table with the class 'wikitable'\n",
        "        # Now you can extract hyperlinks from this table\n",
        "        hyperlinks = [a['href'] for a in table.find_all('a', href=True)]\n",
        "        break"
      ],
      "metadata": {
        "id": "28ZmD014UcsY"
      },
      "execution_count": 7,
      "outputs": []
    },
    {
      "cell_type": "code",
      "source": [
        "words_to_filter = ['Mamluk','Ottoman', 'Mediterranean', 'Sovereign','php?title','File:Flagge', 'Duchy', 'Sweden', 'cite', 'War', 'Kingdom', 'Spain', 'Habsburg', 'Revolution', 'onarch', 'Arm%C3%A9e_des_%C3%89migr%C3%A9s', 'Campaign', 'Empire', 'Russia', 'Hundred']\n",
        "\n",
        "filter_hyperlinks = [link for link in hyperlinks if not any(word in link for word in words_to_filter)]"
      ],
      "metadata": {
        "id": "C98yoiGYkAAp"
      },
      "execution_count": 8,
      "outputs": []
    },
    {
      "cell_type": "code",
      "source": [
        "print(len(filter_hyperlinks), len(hyperlinks))"
      ],
      "metadata": {
        "colab": {
          "base_uri": "https://localhost:8080/"
        },
        "id": "PeSXZzZzUcxs",
        "outputId": "a40d9230-a0b9-45d0-c64a-1f69cf5ad84d"
      },
      "execution_count": 9,
      "outputs": [
        {
          "output_type": "stream",
          "name": "stdout",
          "text": [
            "81 226\n"
          ]
        }
      ]
    },
    {
      "cell_type": "code",
      "source": [
        "filter_hyperlinks"
      ],
      "metadata": {
        "id": "CBYADpNyT57C"
      },
      "execution_count": null,
      "outputs": []
    },
    {
      "cell_type": "code",
      "source": [],
      "metadata": {
        "id": "zqS_ie4voHvk"
      },
      "execution_count": null,
      "outputs": []
    },
    {
      "cell_type": "code",
      "source": [],
      "metadata": {
        "id": "rsRrenunoH16"
      },
      "execution_count": null,
      "outputs": []
    },
    {
      "cell_type": "code",
      "source": [],
      "metadata": {
        "id": "HvbBQSYFoH5m"
      },
      "execution_count": null,
      "outputs": []
    },
    {
      "cell_type": "code",
      "source": [],
      "metadata": {
        "id": "7u8zwPJOoH9H"
      },
      "execution_count": null,
      "outputs": []
    },
    {
      "cell_type": "code",
      "source": [],
      "metadata": {
        "id": "zVHF-5bUH5M2"
      },
      "execution_count": null,
      "outputs": []
    },
    {
      "cell_type": "code",
      "source": [
        "# concat_list = []\n",
        "# for datafr in list_of_df:\n",
        "#   concat_list.append(datafr)\n",
        "# df_partial = pd.concat(concat_list, axis = 0)\n",
        "# pd.set_option('display.max_rows', 500)\n",
        "# df_partial"
      ],
      "metadata": {
        "id": "oSe5qSyLH5Py"
      },
      "execution_count": null,
      "outputs": []
    },
    {
      "cell_type": "code",
      "source": [],
      "metadata": {
        "id": "32F-Xy99H5Vm"
      },
      "execution_count": null,
      "outputs": []
    },
    {
      "cell_type": "code",
      "source": [],
      "metadata": {
        "id": "yzHySo5JH5YL"
      },
      "execution_count": null,
      "outputs": []
    },
    {
      "cell_type": "code",
      "source": [],
      "metadata": {
        "id": "IJWKoAsh-WIa"
      },
      "execution_count": null,
      "outputs": []
    },
    {
      "cell_type": "code",
      "source": [
        "# from urllib.parse import quote\n",
        "# enconded_url = quote(url1_battles[3], safe = ':/')\n",
        "# enconded_url\n",
        "\n",
        "# df = pd.read_html(url_1)[0]\n",
        "# make_dataframe(df)"
      ],
      "metadata": {
        "id": "8X9vEe_Y-WLS"
      },
      "execution_count": null,
      "outputs": []
    },
    {
      "cell_type": "code",
      "source": [
        "def make_dataframe(arg_df):\n",
        "\n",
        "  result_dic = {}\n",
        "  result_dic0 = {}\n",
        "  result_dic1 = {}\n",
        "\n",
        "  for i in range(3,len(arg_df) - 1):\n",
        "\n",
        "    if arg_df.iloc[i,0] == arg_df.iloc[i,1]:\n",
        "\n",
        "      if arg_df.iloc[i,0] in ['Belligerents', 'Commanders and leaders', 'Strength', 'Casualties and losses']:\n",
        "          key0 = arg_df.iloc[i,0]\n",
        "          value0 = arg_df.iloc[i+1,0]\n",
        "          key1 = arg_df.iloc[i,1]\n",
        "          value1 = arg_df.iloc[i+1,1]\n",
        "          result_dic0[key0] = value0\n",
        "          result_dic1[key1] = value1\n",
        "\n",
        "      else:\n",
        "          pass\n",
        "\n",
        "    else:\n",
        "      key00 = arg_df.iloc[i,0]\n",
        "      value00 = arg_df.iloc[i,1]\n",
        "      result_dic[key00] = value00\n",
        "\n",
        "\n",
        "  row0 = list(result_dic0.values())\n",
        "  row1 = list(result_dic1.values())\n",
        "  row00 = list(result_dic.values())\n",
        "\n",
        "  keyy0 = list(result_dic0.keys())\n",
        "  keyy1= list(result_dic1.keys())\n",
        "  keyy00 = list(result_dic.keys())\n",
        "\n",
        "  df_date_loc_result = pd.DataFrame(columns = ['a', 'b', 'c'], data = [keyy00[:3], row00[:3], row00[:3]]).T.rename(columns = {0: 'What', 1:'First team', 2:'Second team'})\n",
        "  df_bell_comm_str_cas = pd.DataFrame(columns = ['d', 'e','f', 'g'], data = [keyy0, row0, row1]).T.rename(columns = {0: 'What', 1:'First team', 2:'Second team'})\n",
        "  df_battle_first = pd.DataFrame(columns = ['What','First team', 'Second team'], data = [['Battle', arg_df.columns[0], arg_df.columns[0]]])\n",
        "\n",
        "  df_no = pd.concat([df_battle_first, df_date_loc_result,df_bell_comm_str_cas], axis = 0)\n",
        "  idx = [df_no.iloc[0,1].lower().replace(' ', '_')] * df_no.shape[0]\n",
        "  df_no.index = idx\n",
        "  return df_no"
      ],
      "metadata": {
        "id": "9L444YdAOEoc"
      },
      "execution_count": 10,
      "outputs": []
    },
    {
      "cell_type": "code",
      "source": [],
      "metadata": {
        "id": "eHis4EZ3U7Vg"
      },
      "execution_count": null,
      "outputs": []
    },
    {
      "cell_type": "code",
      "source": [],
      "metadata": {
        "id": "kI_c-ZzcU7bg"
      },
      "execution_count": null,
      "outputs": []
    },
    {
      "cell_type": "code",
      "source": [],
      "metadata": {
        "id": "cbz7ffAyU7el"
      },
      "execution_count": null,
      "outputs": []
    },
    {
      "cell_type": "code",
      "source": [],
      "metadata": {
        "id": "EMRefVuTSgxq"
      },
      "execution_count": null,
      "outputs": []
    },
    {
      "cell_type": "code",
      "source": [],
      "metadata": {
        "id": "g8jivIw6Sg0E"
      },
      "execution_count": null,
      "outputs": []
    },
    {
      "cell_type": "code",
      "source": [],
      "metadata": {
        "id": "7lmBbvKhSg3X"
      },
      "execution_count": null,
      "outputs": []
    },
    {
      "cell_type": "code",
      "source": [],
      "metadata": {
        "id": "PhggBelRSg6c"
      },
      "execution_count": null,
      "outputs": []
    },
    {
      "cell_type": "code",
      "source": [],
      "metadata": {
        "id": "2VlKMKcLOErH"
      },
      "execution_count": null,
      "outputs": []
    },
    {
      "cell_type": "code",
      "source": [],
      "metadata": {
        "id": "UxAAnsx9OEuS"
      },
      "execution_count": null,
      "outputs": []
    },
    {
      "cell_type": "code",
      "source": [],
      "metadata": {
        "id": "geoWXeY7Lj-1"
      },
      "execution_count": null,
      "outputs": []
    },
    {
      "cell_type": "code",
      "source": [],
      "metadata": {
        "id": "c1E842JMLkB9"
      },
      "execution_count": null,
      "outputs": []
    },
    {
      "cell_type": "code",
      "source": [],
      "metadata": {
        "id": "uwsyyhJmLivf"
      },
      "execution_count": null,
      "outputs": []
    },
    {
      "cell_type": "code",
      "source": [],
      "metadata": {
        "id": "M__8E5eCLiyq"
      },
      "execution_count": null,
      "outputs": []
    },
    {
      "cell_type": "code",
      "source": [
        "pd.read_html('https://en.wikipedia.org/wiki/Ligny_(1815)')[1]"
      ],
      "metadata": {
        "id": "n6uc8KkYjra6"
      },
      "execution_count": null,
      "outputs": []
    },
    {
      "cell_type": "code",
      "source": [
        "def try_read_html(url):\n",
        "  try:\n",
        "    table = pd.read_html(url)[0]\n",
        "    return table\n",
        "  except Exception as e:\n",
        "    print(f'Error reading from {url}: {e}')\n",
        "    return None"
      ],
      "metadata": {
        "id": "7ZfyG0WkgkLc"
      },
      "execution_count": null,
      "outputs": []
    },
    {
      "cell_type": "code",
      "source": [
        "for url in url_battles:\n",
        "  tables = try_read_html(url)\n",
        "  if tables is not None:\n",
        "    print (f'Tables extracted from {url}')"
      ],
      "metadata": {
        "id": "wNu7FhqugkOa"
      },
      "execution_count": null,
      "outputs": []
    },
    {
      "cell_type": "code",
      "source": [],
      "metadata": {
        "id": "CBSRm0BqhwYf"
      },
      "execution_count": null,
      "outputs": []
    }
  ]
}